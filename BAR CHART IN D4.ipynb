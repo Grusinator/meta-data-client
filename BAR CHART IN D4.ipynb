{
 "cells": [
  {
   "cell_type": "markdown",
   "metadata": {},
   "source": [
    "# BAR CHART IN D3"
   ]
  },
  {
   "cell_type": "markdown",
   "metadata": {},
   "source": [
    "## INTRODUCTION "
   ]
  },
  {
   "cell_type": "markdown",
   "metadata": {},
   "source": [
    "This is code continuation that is based on the blog : \n",
    "    \n",
    "    \n",
    "The notebook is a simple example of us D3 and how to make updates.\n",
    "\n",
    "The link to bl.ock is here : https://bl.ocks.org/mbostock/3885304\n",
    "\n",
    "Please refer to the blog for the explanation of this note book ."
   ]
  },
  {
   "cell_type": "code",
   "execution_count": 2,
   "metadata": {},
   "outputs": [],
   "source": [
    "from IPython.core.display import display, HTML\n",
    "from string import Template\n",
    "import pandas as pd\n",
    "import json, random"
   ]
  },
  {
   "cell_type": "code",
   "execution_count": 3,
   "metadata": {},
   "outputs": [
    {
     "data": {
      "text/html": [
       "<script src=\"./d3.min.js\"></script>"
      ],
      "text/plain": [
       "<IPython.core.display.HTML object>"
      ]
     },
     "execution_count": 3,
     "metadata": {},
     "output_type": "execute_result"
    }
   ],
   "source": [
    "# Get the D3 host locally. \n",
    "HTML('<script src=\"./d3.min.js\"></script>')"
   ]
  },
  {
   "cell_type": "code",
   "execution_count": 29,
   "metadata": {},
   "outputs": [],
   "source": [
    "#HTML templet\n",
    "html_template = Template('''\n",
    "<style> $css_text </style>\n",
    "<div id=\"graph-div\"></div>\n",
    "<script> $js_text </script>\n",
    "''')"
   ]
  },
  {
   "cell_type": "code",
   "execution_count": 5,
   "metadata": {},
   "outputs": [],
   "source": [
    "# Css templet\n",
    "css_text = '''\n",
    "\n",
    "'''"
   ]
  },
  {
   "cell_type": "code",
   "execution_count": 30,
   "metadata": {},
   "outputs": [],
   "source": [
    "#Java script templet\n",
    "js_text1 = '''\n",
    "\n",
    "d3 = require(\"d3@5\")\n",
    "\n",
    "width = 932\n",
    "radius = width / 2\n",
    "\n",
    "\n",
    "data = require(\"@observablehq/flare\")\n",
    "\n",
    "\n",
    "tree = data => d3.tree()\n",
    "    .size([2 * Math.PI, radius])\n",
    "    .separation((a, b) => (a.parent == b.parent ? 1 : 2) / a.depth)\n",
    "  (d3.hierarchy(data))\n",
    "\n",
    "\n",
    "chart = {\n",
    "  const root = tree(data);\n",
    "  \n",
    "  const svg = d3.select(\"#graph-div\").append(\"svg\")\n",
    "      .style(\"width\", \"100%\")\n",
    "      .style(\"height\", \"auto\")\n",
    "      .style(\"padding\", \"10px\")\n",
    "      .style(\"box-sizing\", \"border-box\")\n",
    "      .style(\"font\", \"10px sans-serif\");\n",
    "  \n",
    "  const g = svg.append(\"g\");\n",
    "    \n",
    "  const link = g.append(\"g\")\n",
    "      .attr(\"fill\", \"none\")\n",
    "      .attr(\"stroke\", \"#555\")\n",
    "      .attr(\"stroke-opacity\", 0.4)\n",
    "      .attr(\"stroke-width\", 1.5)\n",
    "    .selectAll(\"path\")\n",
    "    .data(root.links())\n",
    "    .enter().append(\"path\")\n",
    "      .attr(\"d\", d3.linkRadial()\n",
    "          .angle(d => d.x)\n",
    "          .radius(d => d.y));\n",
    "  \n",
    "  const node = g.append(\"g\")\n",
    "      .attr(\"stroke-linejoin\", \"round\")\n",
    "      .attr(\"stroke-width\", 3)\n",
    "    .selectAll(\"g\")\n",
    "    .data(root.descendants().reverse())\n",
    "    .enter().append(\"g\")\n",
    "      .attr(\"transform\", d => `\n",
    "        rotate(${d.x * 180 / Math.PI - 90})\n",
    "        translate(${d.y},0)\n",
    "      `);\n",
    "  \n",
    "  node.append(\"circle\")\n",
    "      .attr(\"fill\", d => d.children ? \"#555\" : \"#999\")\n",
    "      .attr(\"r\", 2.5);\n",
    "  \n",
    "  node.append(\"text\")\n",
    "      .attr(\"dy\", \"0.31em\")\n",
    "      .attr(\"x\", d => d.x < Math.PI === !d.children ? 6 : -6)\n",
    "      .attr(\"text-anchor\", d => d.x < Math.PI === !d.children ? \"start\" : \"end\")\n",
    "      .attr(\"transform\", d => d.x >= Math.PI ? \"rotate(180)\" : null)\n",
    "      .text(d => d.data.name)\n",
    "    .clone(true).lower()\n",
    "      .attr(\"stroke\", \"white\");\n",
    "  \n",
    "  document.body.appendChild(svg.node());\n",
    "\n",
    "  const box = g.node().getBBox();\n",
    "\n",
    "  svg.remove()\n",
    "      .attr(\"width\", box.width)\n",
    "      .attr(\"height\", box.height)\n",
    "      .attr(\"viewBox\", `${box.x} ${box.y} ${box.width} ${box.height}`);\n",
    "\n",
    "  return svg.node();\n",
    "}\n",
    "\n",
    "'''\n",
    "\n",
    "temp1 = Template(js_text1)"
   ]
  },
  {
   "cell_type": "code",
   "execution_count": null,
   "metadata": {},
   "outputs": [],
   "source": []
  },
  {
   "cell_type": "code",
   "execution_count": 21,
   "metadata": {},
   "outputs": [],
   "source": [
    "js_text_template_2 = Template('''\n",
    "\n",
    "var bars = svg.selectAll(\".bar\").data($data);\n",
    "  \n",
    "bars\n",
    "  .transition()\n",
    "    .attr(\"y\", function(d) { return y(d.y); })\n",
    "    .attr(\"height\", function(d) { return height - y(d.y); });\n",
    "\n",
    "''')"
   ]
  },
  {
   "cell_type": "code",
   "execution_count": 22,
   "metadata": {},
   "outputs": [],
   "source": [
    "data = pd.DataFrame({'letter': ['A','B','C','D'], 'y': [1,1,1,1]})\n",
    "data.head()\n",
    "\n",
    "\n",
    "data_new = {\n",
    "    \"name\": \"test\",\n",
    "    \"children\": [\n",
    "        { \"name\": \"test2\",\n",
    "         \"children\": []},\n",
    "        {\"name\" : \"test3\",\n",
    "        \"children\":[]}\n",
    "    ]\n",
    "}"
   ]
  },
  {
   "cell_type": "code",
   "execution_count": 23,
   "metadata": {},
   "outputs": [
    {
     "data": {
      "text/plain": [
       "'{\"name\": \"test\", \"children\": [{\"name\": \"test2\", \"children\": []}, {\"name\": \"test3\", \"children\": []}]}'"
      ]
     },
     "execution_count": 23,
     "metadata": {},
     "output_type": "execute_result"
    }
   ],
   "source": [
    "json.dumps(data_new)"
   ]
  },
  {
   "cell_type": "code",
   "execution_count": 31,
   "metadata": {},
   "outputs": [
    {
     "data": {
      "text/html": [
       "\n",
       "<style> \n",
       "\n",
       ".bar {\n",
       "  fill: steelblue;\n",
       "}\n",
       "\n",
       ".bar:hover {\n",
       "  fill: brown;\n",
       "}\n",
       "\n",
       ".axis {\n",
       "  font: 10px sans-serif;\n",
       "}\n",
       "\n",
       ".axis path,\n",
       ".axis line {\n",
       "  fill: none;\n",
       "  stroke: #000;\n",
       "  shape-rendering: crispEdges;\n",
       "}\n",
       "\n",
       ".x.axis path {\n",
       "  display: none;\n",
       "}\n",
       "\n",
       " </style>\n",
       "<div id=\"graph-div\"></div>\n",
       "<script> \n",
       "\n",
       "d3 = require(\"d3@5\")\n",
       "\n",
       "width = 932\n",
       "radius = width / 2\n",
       "\n",
       "\n",
       "data = require(\"@observablehq/flare\")\n",
       "\n",
       "\n",
       "tree = data => d3.tree()\n",
       "    .size([2 * Math.PI, radius])\n",
       "    .separation((a, b) => (a.parent == b.parent ? 1 : 2) / a.depth)\n",
       "  (d3.hierarchy(data))\n",
       "\n",
       "\n",
       "chart = {\n",
       "  const root = tree(data);\n",
       "  \n",
       "  const svg = d3.select(\"#graph-div\").append(\"svg\")\n",
       "      .style(\"width\", \"100%\")\n",
       "      .style(\"height\", \"auto\")\n",
       "      .style(\"padding\", \"10px\")\n",
       "      .style(\"box-sizing\", \"border-box\")\n",
       "      .style(\"font\", \"10px sans-serif\");\n",
       "  \n",
       "  const g = svg.append(\"g\");\n",
       "    \n",
       "  const link = g.append(\"g\")\n",
       "      .attr(\"fill\", \"none\")\n",
       "      .attr(\"stroke\", \"#555\")\n",
       "      .attr(\"stroke-opacity\", 0.4)\n",
       "      .attr(\"stroke-width\", 1.5)\n",
       "    .selectAll(\"path\")\n",
       "    .data(root.links())\n",
       "    .enter().append(\"path\")\n",
       "      .attr(\"d\", d3.linkRadial()\n",
       "          .angle(d => d.x)\n",
       "          .radius(d => d.y));\n",
       "  \n",
       "  const node = g.append(\"g\")\n",
       "      .attr(\"stroke-linejoin\", \"round\")\n",
       "      .attr(\"stroke-width\", 3)\n",
       "    .selectAll(\"g\")\n",
       "    .data(root.descendants().reverse())\n",
       "    .enter().append(\"g\")\n",
       "      .attr(\"transform\", d => `\n",
       "        rotate(${d.x * 180 / Math.PI - 90})\n",
       "        translate(${d.y},0)\n",
       "      `);\n",
       "  \n",
       "  node.append(\"circle\")\n",
       "      .attr(\"fill\", d => d.children ? \"#555\" : \"#999\")\n",
       "      .attr(\"r\", 2.5);\n",
       "  \n",
       "  node.append(\"text\")\n",
       "      .attr(\"dy\", \"0.31em\")\n",
       "      .attr(\"x\", d => d.x < Math.PI === !d.children ? 6 : -6)\n",
       "      .attr(\"text-anchor\", d => d.x < Math.PI === !d.children ? \"start\" : \"end\")\n",
       "      .attr(\"transform\", d => d.x >= Math.PI ? \"rotate(180)\" : null)\n",
       "      .text(d => d.data.name)\n",
       "    .clone(true).lower()\n",
       "      .attr(\"stroke\", \"white\");\n",
       "  \n",
       "  document.body.appendChild(svg.node());\n",
       "\n",
       "  const box = g.node().getBBox();\n",
       "\n",
       "  svg.remove()\n",
       "      .attr(\"width\", box.width)\n",
       "      .attr(\"height\", box.height)\n",
       "      .attr(\"viewBox\", `${box.x} ${box.y} ${box.width} ${box.height}`);\n",
       "\n",
       "  return svg.node();\n",
       "}\n",
       "\n",
       " </script>\n"
      ],
      "text/plain": [
       "<IPython.core.display.HTML object>"
      ]
     },
     "execution_count": 31,
     "metadata": {},
     "output_type": "execute_result"
    }
   ],
   "source": [
    "# js_text = js_text_template.substitute({'data': json.dumps(data.to_dict(orient='records'))})\n",
    "HTML(html_template.substitute({'css_text': css_text, 'js_text': js_text1}))"
   ]
  },
  {
   "cell_type": "code",
   "execution_count": 18,
   "metadata": {},
   "outputs": [
    {
     "data": {
      "text/html": [
       "<script>\n",
       "\n",
       "var bars = svg.selectAll(\".bar\").data([{\"letter\": \"A\", \"y\": 0.22675682297083533}, {\"letter\": \"B\", \"y\": 0.8287562450666597}, {\"letter\": \"C\", \"y\": 0.71647222952782}, {\"letter\": \"D\", \"y\": 0.6924053034892355}]);\n",
       "  \n",
       "bars\n",
       "  .transition()\n",
       "    .attr(\"y\", function(d) { return y(d.y); })\n",
       "    .attr(\"height\", function(d) { return height - y(d.y); });\n",
       "\n",
       "</script>"
      ],
      "text/plain": [
       "<IPython.core.display.HTML object>"
      ]
     },
     "execution_count": 18,
     "metadata": {},
     "output_type": "execute_result"
    }
   ],
   "source": [
    "data['y'] = [random.uniform(0,1) for d in data['y']]\n",
    "js_text = js_text_template_2.substitute({'data': json.dumps(data.to_dict(orient='records'))})\n",
    "HTML('<script>' + js_text + '</script>')"
   ]
  },
  {
   "cell_type": "code",
   "execution_count": 32,
   "metadata": {},
   "outputs": [
    {
     "data": {
      "text/html": [
       "<!DOCTYPE html>\n",
       "<meta charset=\"utf-8\">\n",
       "<style>\n",
       ".node circle {\n",
       "  fill: #999;\n",
       "}\n",
       ".node text {\n",
       "  font: 10px sans-serif;\n",
       "}\n",
       ".node--internal circle {\n",
       "  fill: #555;\n",
       "}\n",
       ".node--internal text {\n",
       "  text-shadow: 0 1px 0 #fff, 0 -1px 0 #fff, 1px 0 0 #fff, -1px 0 0 #fff;\n",
       "}\n",
       ".link {\n",
       "  fill: none;\n",
       "  stroke: #555;\n",
       "  stroke-opacity: 0.4;\n",
       "  stroke-width: 1.5px;\n",
       "}\n",
       "</style>\n",
       "<svg width=\"960\" height=\"1060\"></svg>\n",
       "<script src=\"https://d3js.org/d3.v4.min.js\"></script>\n",
       "<script>\n",
       "var svg = d3.select(\"svg\"),\n",
       "    width = +svg.attr(\"width\"),\n",
       "    height = +svg.attr(\"height\"),\n",
       "    g = svg.append(\"g\").attr(\"transform\", \"translate(\" + (width / 2 + 40) + \",\" + (height / 2 + 90) + \")\");\n",
       "var stratify = d3.stratify()\n",
       "    .parentId(function(d) { return d.id.substring(0, d.id.lastIndexOf(\".\")); });\n",
       "var tree = d3.tree()\n",
       "    .size([2 * Math.PI, 500])\n",
       "    .separation(function(a, b) { return (a.parent == b.parent ? 1 : 2) / a.depth; });\n",
       "d3.csv(\"flare.csv\", function(error, data) {\n",
       "  if (error) throw error;\n",
       "  var root = tree(stratify(data));\n",
       "  var link = g.selectAll(\".link\")\n",
       "    .data(root.links())\n",
       "    .enter().append(\"path\")\n",
       "      .attr(\"class\", \"link\")\n",
       "      .attr(\"d\", d3.linkRadial()\n",
       "          .angle(function(d) { return d.x; })\n",
       "          .radius(function(d) { return d.y; }));\n",
       "  var node = g.selectAll(\".node\")\n",
       "    .data(root.descendants())\n",
       "    .enter().append(\"g\")\n",
       "      .attr(\"class\", function(d) { return \"node\" + (d.children ? \" node--internal\" : \" node--leaf\"); })\n",
       "      .attr(\"transform\", function(d) { return \"translate(\" + radialPoint(d.x, d.y) + \")\"; });\n",
       "  node.append(\"circle\")\n",
       "      .attr(\"r\", 2.5);\n",
       "  node.append(\"text\")\n",
       "      .attr(\"dy\", \"0.31em\")\n",
       "      .attr(\"x\", function(d) { return d.x < Math.PI === !d.children ? 6 : -6; })\n",
       "      .attr(\"text-anchor\", function(d) { return d.x < Math.PI === !d.children ? \"start\" : \"end\"; })\n",
       "      .attr(\"transform\", function(d) { return \"rotate(\" + (d.x < Math.PI ? d.x - Math.PI / 2 : d.x + Math.PI / 2) * 180 / Math.PI + \")\"; })\n",
       "      .text(function(d) { return d.id.substring(d.id.lastIndexOf(\".\") + 1); });\n",
       "});\n",
       "function radialPoint(x, y) {\n",
       "  return [(y = +y) * Math.cos(x -= Math.PI / 2), y * Math.sin(x)];\n",
       "}\n",
       "</script>"
      ],
      "text/plain": [
       "<IPython.core.display.HTML object>"
      ]
     },
     "execution_count": 32,
     "metadata": {},
     "output_type": "execute_result"
    }
   ],
   "source": [
    "HTML(\"\"\"<!DOCTYPE html>\n",
    "<meta charset=\"utf-8\">\n",
    "<style>\n",
    ".node circle {\n",
    "  fill: #999;\n",
    "}\n",
    ".node text {\n",
    "  font: 10px sans-serif;\n",
    "}\n",
    ".node--internal circle {\n",
    "  fill: #555;\n",
    "}\n",
    ".node--internal text {\n",
    "  text-shadow: 0 1px 0 #fff, 0 -1px 0 #fff, 1px 0 0 #fff, -1px 0 0 #fff;\n",
    "}\n",
    ".link {\n",
    "  fill: none;\n",
    "  stroke: #555;\n",
    "  stroke-opacity: 0.4;\n",
    "  stroke-width: 1.5px;\n",
    "}\n",
    "</style>\n",
    "<svg width=\"960\" height=\"1060\"></svg>\n",
    "<script src=\"https://d3js.org/d3.v4.min.js\"></script>\n",
    "<script>\n",
    "var svg = d3.select(\"svg\"),\n",
    "    width = +svg.attr(\"width\"),\n",
    "    height = +svg.attr(\"height\"),\n",
    "    g = svg.append(\"g\").attr(\"transform\", \"translate(\" + (width / 2 + 40) + \",\" + (height / 2 + 90) + \")\");\n",
    "var stratify = d3.stratify()\n",
    "    .parentId(function(d) { return d.id.substring(0, d.id.lastIndexOf(\".\")); });\n",
    "var tree = d3.tree()\n",
    "    .size([2 * Math.PI, 500])\n",
    "    .separation(function(a, b) { return (a.parent == b.parent ? 1 : 2) / a.depth; });\n",
    "d3.csv(\"flare.csv\", function(error, data) {\n",
    "  if (error) throw error;\n",
    "  var root = tree(stratify(data));\n",
    "  var link = g.selectAll(\".link\")\n",
    "    .data(root.links())\n",
    "    .enter().append(\"path\")\n",
    "      .attr(\"class\", \"link\")\n",
    "      .attr(\"d\", d3.linkRadial()\n",
    "          .angle(function(d) { return d.x; })\n",
    "          .radius(function(d) { return d.y; }));\n",
    "  var node = g.selectAll(\".node\")\n",
    "    .data(root.descendants())\n",
    "    .enter().append(\"g\")\n",
    "      .attr(\"class\", function(d) { return \"node\" + (d.children ? \" node--internal\" : \" node--leaf\"); })\n",
    "      .attr(\"transform\", function(d) { return \"translate(\" + radialPoint(d.x, d.y) + \")\"; });\n",
    "  node.append(\"circle\")\n",
    "      .attr(\"r\", 2.5);\n",
    "  node.append(\"text\")\n",
    "      .attr(\"dy\", \"0.31em\")\n",
    "      .attr(\"x\", function(d) { return d.x < Math.PI === !d.children ? 6 : -6; })\n",
    "      .attr(\"text-anchor\", function(d) { return d.x < Math.PI === !d.children ? \"start\" : \"end\"; })\n",
    "      .attr(\"transform\", function(d) { return \"rotate(\" + (d.x < Math.PI ? d.x - Math.PI / 2 : d.x + Math.PI / 2) * 180 / Math.PI + \")\"; })\n",
    "      .text(function(d) { return d.id.substring(d.id.lastIndexOf(\".\") + 1); });\n",
    "});\n",
    "function radialPoint(x, y) {\n",
    "  return [(y = +y) * Math.cos(x -= Math.PI / 2), y * Math.sin(x)];\n",
    "}\n",
    "</script>\"\"\")"
   ]
  }
 ],
 "metadata": {
  "anaconda-cloud": {},
  "kernelspec": {
   "display_name": "Python 3",
   "language": "python",
   "name": "python3"
  },
  "language_info": {
   "codemirror_mode": {
    "name": "ipython",
    "version": 3
   },
   "file_extension": ".py",
   "mimetype": "text/x-python",
   "name": "python",
   "nbconvert_exporter": "python",
   "pygments_lexer": "ipython3",
   "version": "3.6.3"
  },
  "toc": {
   "nav_menu": {},
   "number_sections": true,
   "sideBar": true,
   "skip_h1_title": false,
   "toc_cell": false,
   "toc_position": {},
   "toc_section_display": "block",
   "toc_window_display": false
  }
 },
 "nbformat": 4,
 "nbformat_minor": 2
}
